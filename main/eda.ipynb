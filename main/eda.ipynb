{
 "cells": [
  {
   "cell_type": "markdown",
   "source": [
    "# Exploratory Data Analysis for Music Genre Classification"
   ],
   "metadata": {
    "collapsed": false
   }
  },
  {
   "cell_type": "markdown",
   "source": [
    "### Importing Libraries and Loading Data"
   ],
   "metadata": {
    "collapsed": false
   }
  },
  {
   "cell_type": "code",
   "execution_count": 25,
   "outputs": [],
   "source": [
    "import os\n",
    "import numpy as np\n",
    "import pandas as pd\n",
    "import matplotlib.pyplot as plt\n",
    "import torch\n",
    "\n",
    "# NOT YET WORKING ON ELIZABETH'S COMPUTER\n",
    "#import scipy as sp\n",
    "#from scipy import signal\n",
    "#from scipy.io import wavfile"
   ],
   "metadata": {
    "collapsed": false,
    "pycharm": {
     "name": "#%%\n"
    }
   }
  },
  {
   "cell_type": "code",
   "execution_count": 27,
   "outputs": [
    {
     "data": {
      "text/plain": "      length  chroma_stft_mean  chroma_stft_var  rms_mean   rms_var  \\\n0      66149          0.335406         0.091048  0.130405  0.003521   \n1      66149          0.343065         0.086147  0.112699  0.001450   \n2      66149          0.346815         0.092243  0.132003  0.004620   \n3      66149          0.363639         0.086856  0.132565  0.002448   \n4      66149          0.335579         0.088129  0.143289  0.001701   \n...      ...               ...              ...       ...       ...   \n9985   66149          0.349126         0.080515  0.050019  0.000097   \n9986   66149          0.372564         0.082626  0.057897  0.000088   \n9987   66149          0.347481         0.089019  0.052403  0.000701   \n9988   66149          0.387527         0.084815  0.066430  0.000320   \n9989   66149          0.369293         0.086759  0.050524  0.000067   \n\n      spectral_centroid_mean  spectral_centroid_var  spectral_bandwidth_mean  \\\n0                1773.065032          167541.630869              1972.744388   \n1                1816.693777           90525.690866              2010.051501   \n2                1788.539719          111407.437613              2084.565132   \n3                1655.289045          111952.284517              1960.039988   \n4                1630.656199           79667.267654              1948.503884   \n...                      ...                    ...                      ...   \n9985             1499.083005          164266.886443              1718.707215   \n9986             1847.965128          281054.935973              1906.468492   \n9987             1346.157659          662956.246325              1561.859087   \n9988             2084.515327          203891.039161              2018.366254   \n9989             1634.330126          411429.169769              1867.422378   \n\n      spectral_bandwidth_var  rolloff_mean  ...  mfcc16_mean  mfcc16_var  \\\n0              117335.771563   3714.560359  ...    -2.853603   39.687145   \n1               65671.875673   3869.682242  ...     4.074709   64.748276   \n2               75124.921716   3997.639160  ...     4.806280   67.336563   \n3               82913.639269   3568.300218  ...    -1.359111   47.739452   \n4               60204.020268   3469.992864  ...     2.092937   30.336359   \n...                      ...           ...  ...          ...         ...   \n9985            85931.574523   3015.559458  ...     5.773784   42.485981   \n9986            99727.037054   3746.694524  ...     2.074155   32.415203   \n9987           138762.841945   2442.362154  ...    -1.005473   78.228149   \n9988            22860.992562   4313.266226  ...     4.123402   28.323744   \n9989           119722.211518   3462.042142  ...     1.342274   38.801735   \n\n      mfcc17_mean  mfcc17_var  mfcc18_mean  mfcc18_var  mfcc19_mean  \\\n0       -3.241280   36.488243     0.722209   38.099152    -5.050335   \n1       -6.055294   40.677654     0.159015   51.264091    -2.837699   \n2       -1.768610   28.348579     2.378768   45.717648    -1.938424   \n3       -3.841155   28.337118     1.218588   34.770935    -3.580352   \n4        0.664582   45.880913     1.689446   51.363583    -3.392489   \n...           ...         ...          ...         ...          ...   \n9985    -9.094270   38.326839    -4.246976   31.049839    -5.625813   \n9986   -12.375726   66.418587    -3.081278   54.414265   -11.960546   \n9987    -2.524483   21.778994     4.809936   25.980829     1.775686   \n9988    -5.363541   17.209942     6.462601   21.442928     2.354765   \n9989   -11.598399   58.983097    -0.178517   55.761299    -6.903252   \n\n      mfcc19_var  mfcc20_mean  mfcc20_var  \n0      33.618073    -0.243027   43.771767  \n1      97.030830     5.784063   59.943081  \n2      53.050835     2.517375   33.105122  \n3      50.836224     3.630866   32.023678  \n4      26.738789     0.536961   29.146694  \n...          ...          ...         ...  \n9985   48.804092     1.818823   38.966969  \n9986   63.452255     0.428857   18.697033  \n9987   48.582378    -0.299545   41.586990  \n9988   24.843613     0.675824   12.787750  \n9989   39.485901    -3.412534   31.727489  \n\n[9990 rows x 58 columns]",
      "text/html": "<div>\n<style scoped>\n    .dataframe tbody tr th:only-of-type {\n        vertical-align: middle;\n    }\n\n    .dataframe tbody tr th {\n        vertical-align: top;\n    }\n\n    .dataframe thead th {\n        text-align: right;\n    }\n</style>\n<table border=\"1\" class=\"dataframe\">\n  <thead>\n    <tr style=\"text-align: right;\">\n      <th></th>\n      <th>length</th>\n      <th>chroma_stft_mean</th>\n      <th>chroma_stft_var</th>\n      <th>rms_mean</th>\n      <th>rms_var</th>\n      <th>spectral_centroid_mean</th>\n      <th>spectral_centroid_var</th>\n      <th>spectral_bandwidth_mean</th>\n      <th>spectral_bandwidth_var</th>\n      <th>rolloff_mean</th>\n      <th>...</th>\n      <th>mfcc16_mean</th>\n      <th>mfcc16_var</th>\n      <th>mfcc17_mean</th>\n      <th>mfcc17_var</th>\n      <th>mfcc18_mean</th>\n      <th>mfcc18_var</th>\n      <th>mfcc19_mean</th>\n      <th>mfcc19_var</th>\n      <th>mfcc20_mean</th>\n      <th>mfcc20_var</th>\n    </tr>\n  </thead>\n  <tbody>\n    <tr>\n      <th>0</th>\n      <td>66149</td>\n      <td>0.335406</td>\n      <td>0.091048</td>\n      <td>0.130405</td>\n      <td>0.003521</td>\n      <td>1773.065032</td>\n      <td>167541.630869</td>\n      <td>1972.744388</td>\n      <td>117335.771563</td>\n      <td>3714.560359</td>\n      <td>...</td>\n      <td>-2.853603</td>\n      <td>39.687145</td>\n      <td>-3.241280</td>\n      <td>36.488243</td>\n      <td>0.722209</td>\n      <td>38.099152</td>\n      <td>-5.050335</td>\n      <td>33.618073</td>\n      <td>-0.243027</td>\n      <td>43.771767</td>\n    </tr>\n    <tr>\n      <th>1</th>\n      <td>66149</td>\n      <td>0.343065</td>\n      <td>0.086147</td>\n      <td>0.112699</td>\n      <td>0.001450</td>\n      <td>1816.693777</td>\n      <td>90525.690866</td>\n      <td>2010.051501</td>\n      <td>65671.875673</td>\n      <td>3869.682242</td>\n      <td>...</td>\n      <td>4.074709</td>\n      <td>64.748276</td>\n      <td>-6.055294</td>\n      <td>40.677654</td>\n      <td>0.159015</td>\n      <td>51.264091</td>\n      <td>-2.837699</td>\n      <td>97.030830</td>\n      <td>5.784063</td>\n      <td>59.943081</td>\n    </tr>\n    <tr>\n      <th>2</th>\n      <td>66149</td>\n      <td>0.346815</td>\n      <td>0.092243</td>\n      <td>0.132003</td>\n      <td>0.004620</td>\n      <td>1788.539719</td>\n      <td>111407.437613</td>\n      <td>2084.565132</td>\n      <td>75124.921716</td>\n      <td>3997.639160</td>\n      <td>...</td>\n      <td>4.806280</td>\n      <td>67.336563</td>\n      <td>-1.768610</td>\n      <td>28.348579</td>\n      <td>2.378768</td>\n      <td>45.717648</td>\n      <td>-1.938424</td>\n      <td>53.050835</td>\n      <td>2.517375</td>\n      <td>33.105122</td>\n    </tr>\n    <tr>\n      <th>3</th>\n      <td>66149</td>\n      <td>0.363639</td>\n      <td>0.086856</td>\n      <td>0.132565</td>\n      <td>0.002448</td>\n      <td>1655.289045</td>\n      <td>111952.284517</td>\n      <td>1960.039988</td>\n      <td>82913.639269</td>\n      <td>3568.300218</td>\n      <td>...</td>\n      <td>-1.359111</td>\n      <td>47.739452</td>\n      <td>-3.841155</td>\n      <td>28.337118</td>\n      <td>1.218588</td>\n      <td>34.770935</td>\n      <td>-3.580352</td>\n      <td>50.836224</td>\n      <td>3.630866</td>\n      <td>32.023678</td>\n    </tr>\n    <tr>\n      <th>4</th>\n      <td>66149</td>\n      <td>0.335579</td>\n      <td>0.088129</td>\n      <td>0.143289</td>\n      <td>0.001701</td>\n      <td>1630.656199</td>\n      <td>79667.267654</td>\n      <td>1948.503884</td>\n      <td>60204.020268</td>\n      <td>3469.992864</td>\n      <td>...</td>\n      <td>2.092937</td>\n      <td>30.336359</td>\n      <td>0.664582</td>\n      <td>45.880913</td>\n      <td>1.689446</td>\n      <td>51.363583</td>\n      <td>-3.392489</td>\n      <td>26.738789</td>\n      <td>0.536961</td>\n      <td>29.146694</td>\n    </tr>\n    <tr>\n      <th>...</th>\n      <td>...</td>\n      <td>...</td>\n      <td>...</td>\n      <td>...</td>\n      <td>...</td>\n      <td>...</td>\n      <td>...</td>\n      <td>...</td>\n      <td>...</td>\n      <td>...</td>\n      <td>...</td>\n      <td>...</td>\n      <td>...</td>\n      <td>...</td>\n      <td>...</td>\n      <td>...</td>\n      <td>...</td>\n      <td>...</td>\n      <td>...</td>\n      <td>...</td>\n      <td>...</td>\n    </tr>\n    <tr>\n      <th>9985</th>\n      <td>66149</td>\n      <td>0.349126</td>\n      <td>0.080515</td>\n      <td>0.050019</td>\n      <td>0.000097</td>\n      <td>1499.083005</td>\n      <td>164266.886443</td>\n      <td>1718.707215</td>\n      <td>85931.574523</td>\n      <td>3015.559458</td>\n      <td>...</td>\n      <td>5.773784</td>\n      <td>42.485981</td>\n      <td>-9.094270</td>\n      <td>38.326839</td>\n      <td>-4.246976</td>\n      <td>31.049839</td>\n      <td>-5.625813</td>\n      <td>48.804092</td>\n      <td>1.818823</td>\n      <td>38.966969</td>\n    </tr>\n    <tr>\n      <th>9986</th>\n      <td>66149</td>\n      <td>0.372564</td>\n      <td>0.082626</td>\n      <td>0.057897</td>\n      <td>0.000088</td>\n      <td>1847.965128</td>\n      <td>281054.935973</td>\n      <td>1906.468492</td>\n      <td>99727.037054</td>\n      <td>3746.694524</td>\n      <td>...</td>\n      <td>2.074155</td>\n      <td>32.415203</td>\n      <td>-12.375726</td>\n      <td>66.418587</td>\n      <td>-3.081278</td>\n      <td>54.414265</td>\n      <td>-11.960546</td>\n      <td>63.452255</td>\n      <td>0.428857</td>\n      <td>18.697033</td>\n    </tr>\n    <tr>\n      <th>9987</th>\n      <td>66149</td>\n      <td>0.347481</td>\n      <td>0.089019</td>\n      <td>0.052403</td>\n      <td>0.000701</td>\n      <td>1346.157659</td>\n      <td>662956.246325</td>\n      <td>1561.859087</td>\n      <td>138762.841945</td>\n      <td>2442.362154</td>\n      <td>...</td>\n      <td>-1.005473</td>\n      <td>78.228149</td>\n      <td>-2.524483</td>\n      <td>21.778994</td>\n      <td>4.809936</td>\n      <td>25.980829</td>\n      <td>1.775686</td>\n      <td>48.582378</td>\n      <td>-0.299545</td>\n      <td>41.586990</td>\n    </tr>\n    <tr>\n      <th>9988</th>\n      <td>66149</td>\n      <td>0.387527</td>\n      <td>0.084815</td>\n      <td>0.066430</td>\n      <td>0.000320</td>\n      <td>2084.515327</td>\n      <td>203891.039161</td>\n      <td>2018.366254</td>\n      <td>22860.992562</td>\n      <td>4313.266226</td>\n      <td>...</td>\n      <td>4.123402</td>\n      <td>28.323744</td>\n      <td>-5.363541</td>\n      <td>17.209942</td>\n      <td>6.462601</td>\n      <td>21.442928</td>\n      <td>2.354765</td>\n      <td>24.843613</td>\n      <td>0.675824</td>\n      <td>12.787750</td>\n    </tr>\n    <tr>\n      <th>9989</th>\n      <td>66149</td>\n      <td>0.369293</td>\n      <td>0.086759</td>\n      <td>0.050524</td>\n      <td>0.000067</td>\n      <td>1634.330126</td>\n      <td>411429.169769</td>\n      <td>1867.422378</td>\n      <td>119722.211518</td>\n      <td>3462.042142</td>\n      <td>...</td>\n      <td>1.342274</td>\n      <td>38.801735</td>\n      <td>-11.598399</td>\n      <td>58.983097</td>\n      <td>-0.178517</td>\n      <td>55.761299</td>\n      <td>-6.903252</td>\n      <td>39.485901</td>\n      <td>-3.412534</td>\n      <td>31.727489</td>\n    </tr>\n  </tbody>\n</table>\n<p>9990 rows × 58 columns</p>\n</div>"
     },
     "execution_count": 27,
     "metadata": {},
     "output_type": "execute_result"
    }
   ],
   "source": [
    "# Load in the 3-second features and 30-second features\n",
    "\n",
    "features_3sec = pd.read_csv('../data/features_3_sec.csv')\n",
    "features_30sec = pd.read_csv('../data/features_30_sec.csv')\n",
    "\n",
    "# Note that there are 9990 rows in the 3-second csv and 1000 rows in the 30-second csv\n",
    "\n",
    "# These dataframes contain both the name of the genre and the names of the file, which includes the genre. We don't want the computer to be making predictions about anything except the data, so it is necessary to remove the names of the files and save the genres in a separate dataframe in the same order.\n",
    "\n",
    "# First save the label column to separate variables.\n",
    "label_3sec = features_3sec['label'].to_numpy()\n",
    "label_30sec = features_30sec['label'].to_numpy()\n",
    "\n",
    "# Then drop the label and filename columns.\n",
    "del features_3sec['label']\n",
    "del features_3sec['filename']\n",
    "del features_30sec['label']\n",
    "del features_30sec['filename']\n",
    "\n",
    "torch.tensor(features_3sec.values)"
   ],
   "metadata": {
    "collapsed": false,
    "pycharm": {
     "name": "#%%\n"
    }
   }
  },
  {
   "cell_type": "code",
   "execution_count": 28,
   "outputs": [
    {
     "data": {
      "text/plain": "tensor([[ 6.6149e+04,  3.3541e-01,  9.1048e-02,  ...,  3.3618e+01,\n         -2.4303e-01,  4.3772e+01],\n        [ 6.6149e+04,  3.4307e-01,  8.6147e-02,  ...,  9.7031e+01,\n          5.7841e+00,  5.9943e+01],\n        [ 6.6149e+04,  3.4681e-01,  9.2243e-02,  ...,  5.3051e+01,\n          2.5174e+00,  3.3105e+01],\n        ...,\n        [ 6.6149e+04,  3.4748e-01,  8.9019e-02,  ...,  4.8582e+01,\n         -2.9955e-01,  4.1587e+01],\n        [ 6.6149e+04,  3.8753e-01,  8.4815e-02,  ...,  2.4844e+01,\n          6.7582e-01,  1.2788e+01],\n        [ 6.6149e+04,  3.6929e-01,  8.6759e-02,  ...,  3.9486e+01,\n         -3.4125e+00,  3.1727e+01]], dtype=torch.float64)"
     },
     "execution_count": 28,
     "metadata": {},
     "output_type": "execute_result"
    }
   ],
   "source": [],
   "metadata": {
    "collapsed": false,
    "pycharm": {
     "name": "#%%\n"
    }
   }
  },
  {
   "cell_type": "markdown",
   "source": [
    "### Not working"
   ],
   "metadata": {
    "collapsed": false,
    "pycharm": {
     "name": "#%% md\n"
    }
   }
  },
  {
   "cell_type": "code",
   "execution_count": null,
   "outputs": [],
   "source": [
    "samples = []\n",
    "path = '/data'\n",
    "for genre in os.listdir(path):\n",
    "    for file in os.listdir(f'{path}{os.sep}{genre}'):\n",
    "        rate, data = wavfile.read(file)\n",
    "        clip = {\"sample_rate\": rate, \"data\": data, \"genre\": genre}\n",
    "        samples.append(clip)"
   ],
   "metadata": {
    "collapsed": false,
    "pycharm": {
     "name": "#%%\n"
    }
   }
  }
 ],
 "metadata": {
  "kernelspec": {
   "display_name": "Python 3",
   "language": "python",
   "name": "python3"
  },
  "language_info": {
   "codemirror_mode": {
    "name": "ipython",
    "version": 2
   },
   "file_extension": ".py",
   "mimetype": "text/x-python",
   "name": "python",
   "nbconvert_exporter": "python",
   "pygments_lexer": "ipython2",
   "version": "2.7.6"
  }
 },
 "nbformat": 4,
 "nbformat_minor": 0
}