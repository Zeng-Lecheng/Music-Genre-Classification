{
 "cells": [
  {
   "cell_type": "markdown",
   "source": [
    "# Exploratory Data Analysis for Music Genre Classification"
   ],
   "metadata": {
    "collapsed": false
   }
  },
  {
   "cell_type": "markdown",
   "source": [
    "### Importing Libraries and Loading Data"
   ],
   "metadata": {
    "collapsed": false
   }
  },
  {
   "cell_type": "code",
   "execution_count": 14,
   "outputs": [],
   "source": [
    "import os\n",
    "import numpy as np\n",
    "import pandas as pd\n",
    "import matplotlib.pyplot as plt\n",
    "import torch\n",
    "from scipy.io import wavfile\n",
    "\n",
    "# NOT YET WORKING ON ELIZABETH'S COMPUTER\n",
    "#import scipy as sp\n",
    "#from scipy import signal\n",
    "#from scipy.io import wavfile"
   ],
   "metadata": {
    "collapsed": false,
    "pycharm": {
     "name": "#%%\n"
    }
   }
  },
  {
   "cell_type": "code",
   "execution_count": 19,
   "outputs": [
    {
     "data": {
      "text/plain": "            filename  length  chroma_stft_mean  chroma_stft_var  rms_mean  \\\n0    blues.00000.wav  661794          0.350088         0.088757  0.130228   \n1    blues.00001.wav  661794          0.340914         0.094980  0.095948   \n2    blues.00002.wav  661794          0.363637         0.085275  0.175570   \n3    blues.00003.wav  661794          0.404785         0.093999  0.141093   \n4    blues.00004.wav  661794          0.308526         0.087841  0.091529   \n..               ...     ...               ...              ...       ...   \n995   rock.00095.wav  661794          0.352063         0.080487  0.079486   \n996   rock.00096.wav  661794          0.398687         0.075086  0.076458   \n997   rock.00097.wav  661794          0.432142         0.075268  0.081651   \n998   rock.00098.wav  661794          0.362485         0.091506  0.083860   \n999   rock.00099.wav  661794          0.358401         0.085884  0.054454   \n\n      rms_var  spectral_centroid_mean  spectral_centroid_var  \\\n0    0.002827             1784.165850          129774.064525   \n1    0.002373             1530.176679          375850.073649   \n2    0.002746             1552.811865          156467.643368   \n3    0.006346             1070.106615          184355.942417   \n4    0.002303             1835.004266          343399.939274   \n..        ...                     ...                    ...   \n995  0.000345             2008.149458          282174.689224   \n996  0.000588             2006.843354          182114.709510   \n997  0.000322             2077.526598          231657.968040   \n998  0.001211             1398.699344          240318.731073   \n999  0.000336             1609.795082          422203.216152   \n\n     spectral_bandwidth_mean  spectral_bandwidth_var  ...  mfcc16_var  \\\n0                2002.449060            85882.761315  ...   52.420910   \n1                2039.036516           213843.755497  ...   55.356403   \n2                1747.702312            76254.192257  ...   40.598766   \n3                1596.412872           166441.494769  ...   44.427753   \n4                1748.172116            88445.209036  ...   86.099236   \n..                       ...                     ...  ...         ...   \n995              2106.541053            88609.749506  ...   45.050526   \n996              2068.942009            82426.016726  ...   33.851742   \n997              1927.293153            74717.124394  ...   33.597008   \n998              1818.450280           109090.207161  ...   46.324894   \n999              1797.213044           120115.632927  ...   59.167755   \n\n     mfcc17_mean  mfcc17_var  mfcc18_mean  mfcc18_var  mfcc19_mean  \\\n0      -1.690215   36.524071    -0.408979   41.597103    -2.303523   \n1      -0.731125   60.314529     0.295073   48.120598    -0.283518   \n2      -7.729093   47.639427    -1.816407   52.382141    -3.439720   \n3      -3.319597   50.206673     0.636965   37.319130    -0.619121   \n4      -5.454034   75.269707    -0.916874   53.613918    -4.404827   \n..           ...         ...          ...         ...          ...   \n995   -13.289984   41.754955     2.484145   36.778877    -6.713265   \n996   -10.848309   39.395096     1.881229   32.010040    -7.461491   \n997   -12.845291   36.367264     3.440978   36.001110   -12.588070   \n998    -4.416050   43.583942     1.556207   34.331261    -5.041897   \n999    -7.069775   73.760391     0.028346   76.504326    -2.025783   \n\n     mfcc19_var  mfcc20_mean  mfcc20_var  label  \n0     55.062923     1.221291   46.936035  blues  \n1     51.106190     0.531217   45.786282  blues  \n2     46.639660    -2.231258   30.573025  blues  \n3     37.259739    -3.407448   31.949339  blues  \n4     62.910812   -11.703234   55.195160  blues  \n..          ...          ...         ...    ...  \n995   54.866825    -1.193787   49.950665   rock  \n996   39.196327    -2.795338   31.773624   rock  \n997   42.502201    -2.106337   29.865515   rock  \n998   47.227180    -3.590644   41.299088   rock  \n999   72.189316     1.155239   49.662510   rock  \n\n[1000 rows x 60 columns]",
      "text/html": "<div>\n<style scoped>\n    .dataframe tbody tr th:only-of-type {\n        vertical-align: middle;\n    }\n\n    .dataframe tbody tr th {\n        vertical-align: top;\n    }\n\n    .dataframe thead th {\n        text-align: right;\n    }\n</style>\n<table border=\"1\" class=\"dataframe\">\n  <thead>\n    <tr style=\"text-align: right;\">\n      <th></th>\n      <th>filename</th>\n      <th>length</th>\n      <th>chroma_stft_mean</th>\n      <th>chroma_stft_var</th>\n      <th>rms_mean</th>\n      <th>rms_var</th>\n      <th>spectral_centroid_mean</th>\n      <th>spectral_centroid_var</th>\n      <th>spectral_bandwidth_mean</th>\n      <th>spectral_bandwidth_var</th>\n      <th>...</th>\n      <th>mfcc16_var</th>\n      <th>mfcc17_mean</th>\n      <th>mfcc17_var</th>\n      <th>mfcc18_mean</th>\n      <th>mfcc18_var</th>\n      <th>mfcc19_mean</th>\n      <th>mfcc19_var</th>\n      <th>mfcc20_mean</th>\n      <th>mfcc20_var</th>\n      <th>label</th>\n    </tr>\n  </thead>\n  <tbody>\n    <tr>\n      <th>0</th>\n      <td>blues.00000.wav</td>\n      <td>661794</td>\n      <td>0.350088</td>\n      <td>0.088757</td>\n      <td>0.130228</td>\n      <td>0.002827</td>\n      <td>1784.165850</td>\n      <td>129774.064525</td>\n      <td>2002.449060</td>\n      <td>85882.761315</td>\n      <td>...</td>\n      <td>52.420910</td>\n      <td>-1.690215</td>\n      <td>36.524071</td>\n      <td>-0.408979</td>\n      <td>41.597103</td>\n      <td>-2.303523</td>\n      <td>55.062923</td>\n      <td>1.221291</td>\n      <td>46.936035</td>\n      <td>blues</td>\n    </tr>\n    <tr>\n      <th>1</th>\n      <td>blues.00001.wav</td>\n      <td>661794</td>\n      <td>0.340914</td>\n      <td>0.094980</td>\n      <td>0.095948</td>\n      <td>0.002373</td>\n      <td>1530.176679</td>\n      <td>375850.073649</td>\n      <td>2039.036516</td>\n      <td>213843.755497</td>\n      <td>...</td>\n      <td>55.356403</td>\n      <td>-0.731125</td>\n      <td>60.314529</td>\n      <td>0.295073</td>\n      <td>48.120598</td>\n      <td>-0.283518</td>\n      <td>51.106190</td>\n      <td>0.531217</td>\n      <td>45.786282</td>\n      <td>blues</td>\n    </tr>\n    <tr>\n      <th>2</th>\n      <td>blues.00002.wav</td>\n      <td>661794</td>\n      <td>0.363637</td>\n      <td>0.085275</td>\n      <td>0.175570</td>\n      <td>0.002746</td>\n      <td>1552.811865</td>\n      <td>156467.643368</td>\n      <td>1747.702312</td>\n      <td>76254.192257</td>\n      <td>...</td>\n      <td>40.598766</td>\n      <td>-7.729093</td>\n      <td>47.639427</td>\n      <td>-1.816407</td>\n      <td>52.382141</td>\n      <td>-3.439720</td>\n      <td>46.639660</td>\n      <td>-2.231258</td>\n      <td>30.573025</td>\n      <td>blues</td>\n    </tr>\n    <tr>\n      <th>3</th>\n      <td>blues.00003.wav</td>\n      <td>661794</td>\n      <td>0.404785</td>\n      <td>0.093999</td>\n      <td>0.141093</td>\n      <td>0.006346</td>\n      <td>1070.106615</td>\n      <td>184355.942417</td>\n      <td>1596.412872</td>\n      <td>166441.494769</td>\n      <td>...</td>\n      <td>44.427753</td>\n      <td>-3.319597</td>\n      <td>50.206673</td>\n      <td>0.636965</td>\n      <td>37.319130</td>\n      <td>-0.619121</td>\n      <td>37.259739</td>\n      <td>-3.407448</td>\n      <td>31.949339</td>\n      <td>blues</td>\n    </tr>\n    <tr>\n      <th>4</th>\n      <td>blues.00004.wav</td>\n      <td>661794</td>\n      <td>0.308526</td>\n      <td>0.087841</td>\n      <td>0.091529</td>\n      <td>0.002303</td>\n      <td>1835.004266</td>\n      <td>343399.939274</td>\n      <td>1748.172116</td>\n      <td>88445.209036</td>\n      <td>...</td>\n      <td>86.099236</td>\n      <td>-5.454034</td>\n      <td>75.269707</td>\n      <td>-0.916874</td>\n      <td>53.613918</td>\n      <td>-4.404827</td>\n      <td>62.910812</td>\n      <td>-11.703234</td>\n      <td>55.195160</td>\n      <td>blues</td>\n    </tr>\n    <tr>\n      <th>...</th>\n      <td>...</td>\n      <td>...</td>\n      <td>...</td>\n      <td>...</td>\n      <td>...</td>\n      <td>...</td>\n      <td>...</td>\n      <td>...</td>\n      <td>...</td>\n      <td>...</td>\n      <td>...</td>\n      <td>...</td>\n      <td>...</td>\n      <td>...</td>\n      <td>...</td>\n      <td>...</td>\n      <td>...</td>\n      <td>...</td>\n      <td>...</td>\n      <td>...</td>\n      <td>...</td>\n    </tr>\n    <tr>\n      <th>995</th>\n      <td>rock.00095.wav</td>\n      <td>661794</td>\n      <td>0.352063</td>\n      <td>0.080487</td>\n      <td>0.079486</td>\n      <td>0.000345</td>\n      <td>2008.149458</td>\n      <td>282174.689224</td>\n      <td>2106.541053</td>\n      <td>88609.749506</td>\n      <td>...</td>\n      <td>45.050526</td>\n      <td>-13.289984</td>\n      <td>41.754955</td>\n      <td>2.484145</td>\n      <td>36.778877</td>\n      <td>-6.713265</td>\n      <td>54.866825</td>\n      <td>-1.193787</td>\n      <td>49.950665</td>\n      <td>rock</td>\n    </tr>\n    <tr>\n      <th>996</th>\n      <td>rock.00096.wav</td>\n      <td>661794</td>\n      <td>0.398687</td>\n      <td>0.075086</td>\n      <td>0.076458</td>\n      <td>0.000588</td>\n      <td>2006.843354</td>\n      <td>182114.709510</td>\n      <td>2068.942009</td>\n      <td>82426.016726</td>\n      <td>...</td>\n      <td>33.851742</td>\n      <td>-10.848309</td>\n      <td>39.395096</td>\n      <td>1.881229</td>\n      <td>32.010040</td>\n      <td>-7.461491</td>\n      <td>39.196327</td>\n      <td>-2.795338</td>\n      <td>31.773624</td>\n      <td>rock</td>\n    </tr>\n    <tr>\n      <th>997</th>\n      <td>rock.00097.wav</td>\n      <td>661794</td>\n      <td>0.432142</td>\n      <td>0.075268</td>\n      <td>0.081651</td>\n      <td>0.000322</td>\n      <td>2077.526598</td>\n      <td>231657.968040</td>\n      <td>1927.293153</td>\n      <td>74717.124394</td>\n      <td>...</td>\n      <td>33.597008</td>\n      <td>-12.845291</td>\n      <td>36.367264</td>\n      <td>3.440978</td>\n      <td>36.001110</td>\n      <td>-12.588070</td>\n      <td>42.502201</td>\n      <td>-2.106337</td>\n      <td>29.865515</td>\n      <td>rock</td>\n    </tr>\n    <tr>\n      <th>998</th>\n      <td>rock.00098.wav</td>\n      <td>661794</td>\n      <td>0.362485</td>\n      <td>0.091506</td>\n      <td>0.083860</td>\n      <td>0.001211</td>\n      <td>1398.699344</td>\n      <td>240318.731073</td>\n      <td>1818.450280</td>\n      <td>109090.207161</td>\n      <td>...</td>\n      <td>46.324894</td>\n      <td>-4.416050</td>\n      <td>43.583942</td>\n      <td>1.556207</td>\n      <td>34.331261</td>\n      <td>-5.041897</td>\n      <td>47.227180</td>\n      <td>-3.590644</td>\n      <td>41.299088</td>\n      <td>rock</td>\n    </tr>\n    <tr>\n      <th>999</th>\n      <td>rock.00099.wav</td>\n      <td>661794</td>\n      <td>0.358401</td>\n      <td>0.085884</td>\n      <td>0.054454</td>\n      <td>0.000336</td>\n      <td>1609.795082</td>\n      <td>422203.216152</td>\n      <td>1797.213044</td>\n      <td>120115.632927</td>\n      <td>...</td>\n      <td>59.167755</td>\n      <td>-7.069775</td>\n      <td>73.760391</td>\n      <td>0.028346</td>\n      <td>76.504326</td>\n      <td>-2.025783</td>\n      <td>72.189316</td>\n      <td>1.155239</td>\n      <td>49.662510</td>\n      <td>rock</td>\n    </tr>\n  </tbody>\n</table>\n<p>1000 rows × 60 columns</p>\n</div>"
     },
     "execution_count": 19,
     "metadata": {},
     "output_type": "execute_result"
    }
   ],
   "source": [
    "# Load in the 3-second features and 30-second features\n",
    "\n",
    "features_3sec = pd.read_csv('../data/features_3_sec.csv');features_3sec\n",
    "features_30sec = pd.read_csv('../data/features_30_sec.csv');features_30sec"
   ],
   "metadata": {
    "collapsed": false,
    "pycharm": {
     "name": "#%%\n"
    }
   }
  },
  {
   "cell_type": "code",
   "execution_count": 15,
   "outputs": [
    {
     "data": {
      "text/plain": "tensor([[ 6.6149e+04,  3.3541e-01,  9.1048e-02,  ...,  3.3618e+01,\n         -2.4303e-01,  4.3772e+01],\n        [ 6.6149e+04,  3.4307e-01,  8.6147e-02,  ...,  9.7031e+01,\n          5.7841e+00,  5.9943e+01],\n        [ 6.6149e+04,  3.4681e-01,  9.2243e-02,  ...,  5.3051e+01,\n          2.5174e+00,  3.3105e+01],\n        ...,\n        [ 6.6149e+04,  3.4748e-01,  8.9019e-02,  ...,  4.8582e+01,\n         -2.9955e-01,  4.1587e+01],\n        [ 6.6149e+04,  3.8753e-01,  8.4815e-02,  ...,  2.4844e+01,\n          6.7582e-01,  1.2788e+01],\n        [ 6.6149e+04,  3.6929e-01,  8.6759e-02,  ...,  3.9486e+01,\n         -3.4125e+00,  3.1727e+01]], dtype=torch.float64)"
     },
     "execution_count": 15,
     "metadata": {},
     "output_type": "execute_result"
    }
   ],
   "source": [
    "\n",
    "\n",
    "# Note that there are 9990 rows in the 3-second csv and 1000 rows in the 30-second csv\n",
    "\n",
    "# These dataframes contain both the name of the genre and the names of the file, which includes the genre. We don't want the computer to be making predictions about anything except the data, so it is necessary to remove the names of the files and save the genres in a separate dataframe in the same order.\n",
    "\n",
    "# First save the label column to separate variables.\n",
    "label_3sec = features_3sec['label'].to_numpy()\n",
    "label_30sec = features_30sec['label'].to_numpy()\n",
    "\n",
    "# Then drop the label and filename columns.\n",
    "del features_3sec['label']\n",
    "del features_3sec['filename']\n",
    "del features_30sec['label']\n",
    "del features_30sec['filename']\n",
    "\n",
    "torch.tensor(features_3sec.values)"
   ],
   "metadata": {
    "collapsed": false,
    "pycharm": {
     "name": "#%%\n"
    }
   }
  },
  {
   "cell_type": "code",
   "execution_count": 17,
   "outputs": [
    {
     "data": {
      "text/plain": "array(['blues', 'blues', 'blues', 'blues', 'blues', 'blues', 'blues',\n       'blues', 'blues', 'blues', 'blues', 'blues', 'blues', 'blues',\n       'blues', 'blues', 'blues', 'blues', 'blues', 'blues', 'blues',\n       'blues', 'blues', 'blues', 'blues', 'blues', 'blues', 'blues',\n       'blues', 'blues', 'blues', 'blues', 'blues', 'blues', 'blues',\n       'blues', 'blues', 'blues', 'blues', 'blues', 'blues', 'blues',\n       'blues', 'blues', 'blues', 'blues', 'blues', 'blues', 'blues',\n       'blues', 'blues', 'blues', 'blues', 'blues', 'blues', 'blues',\n       'blues', 'blues', 'blues', 'blues', 'blues', 'blues', 'blues',\n       'blues', 'blues', 'blues', 'blues', 'blues', 'blues', 'blues',\n       'blues', 'blues', 'blues', 'blues', 'blues', 'blues', 'blues',\n       'blues', 'blues', 'blues', 'blues', 'blues', 'blues', 'blues',\n       'blues', 'blues', 'blues', 'blues', 'blues', 'blues', 'blues',\n       'blues', 'blues', 'blues', 'blues', 'blues', 'blues', 'blues',\n       'blues', 'blues', 'classical', 'classical', 'classical',\n       'classical', 'classical', 'classical', 'classical', 'classical',\n       'classical', 'classical', 'classical', 'classical', 'classical',\n       'classical', 'classical', 'classical', 'classical', 'classical',\n       'classical', 'classical', 'classical', 'classical', 'classical',\n       'classical', 'classical', 'classical', 'classical', 'classical',\n       'classical', 'classical', 'classical', 'classical', 'classical',\n       'classical', 'classical', 'classical', 'classical', 'classical',\n       'classical', 'classical', 'classical', 'classical', 'classical',\n       'classical', 'classical', 'classical', 'classical', 'classical',\n       'classical', 'classical', 'classical', 'classical', 'classical',\n       'classical', 'classical', 'classical', 'classical', 'classical',\n       'classical', 'classical', 'classical', 'classical', 'classical',\n       'classical', 'classical', 'classical', 'classical', 'classical',\n       'classical', 'classical', 'classical', 'classical', 'classical',\n       'classical', 'classical', 'classical', 'classical', 'classical',\n       'classical', 'classical', 'classical', 'classical', 'classical',\n       'classical', 'classical', 'classical', 'classical', 'classical',\n       'classical', 'classical', 'classical', 'classical', 'classical',\n       'classical', 'classical', 'classical', 'classical', 'classical',\n       'classical', 'classical', 'country', 'country', 'country',\n       'country', 'country', 'country', 'country', 'country', 'country',\n       'country', 'country', 'country', 'country', 'country', 'country',\n       'country', 'country', 'country', 'country', 'country', 'country',\n       'country', 'country', 'country', 'country', 'country', 'country',\n       'country', 'country', 'country', 'country', 'country', 'country',\n       'country', 'country', 'country', 'country', 'country', 'country',\n       'country', 'country', 'country', 'country', 'country', 'country',\n       'country', 'country', 'country', 'country', 'country', 'country',\n       'country', 'country', 'country', 'country', 'country', 'country',\n       'country', 'country', 'country', 'country', 'country', 'country',\n       'country', 'country', 'country', 'country', 'country', 'country',\n       'country', 'country', 'country', 'country', 'country', 'country',\n       'country', 'country', 'country', 'country', 'country', 'country',\n       'country', 'country', 'country', 'country', 'country', 'country',\n       'country', 'country', 'country', 'country', 'country', 'country',\n       'country', 'country', 'country', 'country', 'country', 'country',\n       'country', 'disco', 'disco', 'disco', 'disco', 'disco', 'disco',\n       'disco', 'disco', 'disco', 'disco', 'disco', 'disco', 'disco',\n       'disco', 'disco', 'disco', 'disco', 'disco', 'disco', 'disco',\n       'disco', 'disco', 'disco', 'disco', 'disco', 'disco', 'disco',\n       'disco', 'disco', 'disco', 'disco', 'disco', 'disco', 'disco',\n       'disco', 'disco', 'disco', 'disco', 'disco', 'disco', 'disco',\n       'disco', 'disco', 'disco', 'disco', 'disco', 'disco', 'disco',\n       'disco', 'disco', 'disco', 'disco', 'disco', 'disco', 'disco',\n       'disco', 'disco', 'disco', 'disco', 'disco', 'disco', 'disco',\n       'disco', 'disco', 'disco', 'disco', 'disco', 'disco', 'disco',\n       'disco', 'disco', 'disco', 'disco', 'disco', 'disco', 'disco',\n       'disco', 'disco', 'disco', 'disco', 'disco', 'disco', 'disco',\n       'disco', 'disco', 'disco', 'disco', 'disco', 'disco', 'disco',\n       'disco', 'disco', 'disco', 'disco', 'disco', 'disco', 'disco',\n       'disco', 'disco', 'disco', 'hiphop', 'hiphop', 'hiphop', 'hiphop',\n       'hiphop', 'hiphop', 'hiphop', 'hiphop', 'hiphop', 'hiphop',\n       'hiphop', 'hiphop', 'hiphop', 'hiphop', 'hiphop', 'hiphop',\n       'hiphop', 'hiphop', 'hiphop', 'hiphop', 'hiphop', 'hiphop',\n       'hiphop', 'hiphop', 'hiphop', 'hiphop', 'hiphop', 'hiphop',\n       'hiphop', 'hiphop', 'hiphop', 'hiphop', 'hiphop', 'hiphop',\n       'hiphop', 'hiphop', 'hiphop', 'hiphop', 'hiphop', 'hiphop',\n       'hiphop', 'hiphop', 'hiphop', 'hiphop', 'hiphop', 'hiphop',\n       'hiphop', 'hiphop', 'hiphop', 'hiphop', 'hiphop', 'hiphop',\n       'hiphop', 'hiphop', 'hiphop', 'hiphop', 'hiphop', 'hiphop',\n       'hiphop', 'hiphop', 'hiphop', 'hiphop', 'hiphop', 'hiphop',\n       'hiphop', 'hiphop', 'hiphop', 'hiphop', 'hiphop', 'hiphop',\n       'hiphop', 'hiphop', 'hiphop', 'hiphop', 'hiphop', 'hiphop',\n       'hiphop', 'hiphop', 'hiphop', 'hiphop', 'hiphop', 'hiphop',\n       'hiphop', 'hiphop', 'hiphop', 'hiphop', 'hiphop', 'hiphop',\n       'hiphop', 'hiphop', 'hiphop', 'hiphop', 'hiphop', 'hiphop',\n       'hiphop', 'hiphop', 'hiphop', 'hiphop', 'hiphop', 'hiphop', 'jazz',\n       'jazz', 'jazz', 'jazz', 'jazz', 'jazz', 'jazz', 'jazz', 'jazz',\n       'jazz', 'jazz', 'jazz', 'jazz', 'jazz', 'jazz', 'jazz', 'jazz',\n       'jazz', 'jazz', 'jazz', 'jazz', 'jazz', 'jazz', 'jazz', 'jazz',\n       'jazz', 'jazz', 'jazz', 'jazz', 'jazz', 'jazz', 'jazz', 'jazz',\n       'jazz', 'jazz', 'jazz', 'jazz', 'jazz', 'jazz', 'jazz', 'jazz',\n       'jazz', 'jazz', 'jazz', 'jazz', 'jazz', 'jazz', 'jazz', 'jazz',\n       'jazz', 'jazz', 'jazz', 'jazz', 'jazz', 'jazz', 'jazz', 'jazz',\n       'jazz', 'jazz', 'jazz', 'jazz', 'jazz', 'jazz', 'jazz', 'jazz',\n       'jazz', 'jazz', 'jazz', 'jazz', 'jazz', 'jazz', 'jazz', 'jazz',\n       'jazz', 'jazz', 'jazz', 'jazz', 'jazz', 'jazz', 'jazz', 'jazz',\n       'jazz', 'jazz', 'jazz', 'jazz', 'jazz', 'jazz', 'jazz', 'jazz',\n       'jazz', 'jazz', 'jazz', 'jazz', 'jazz', 'jazz', 'jazz', 'jazz',\n       'jazz', 'jazz', 'jazz', 'metal', 'metal', 'metal', 'metal',\n       'metal', 'metal', 'metal', 'metal', 'metal', 'metal', 'metal',\n       'metal', 'metal', 'metal', 'metal', 'metal', 'metal', 'metal',\n       'metal', 'metal', 'metal', 'metal', 'metal', 'metal', 'metal',\n       'metal', 'metal', 'metal', 'metal', 'metal', 'metal', 'metal',\n       'metal', 'metal', 'metal', 'metal', 'metal', 'metal', 'metal',\n       'metal', 'metal', 'metal', 'metal', 'metal', 'metal', 'metal',\n       'metal', 'metal', 'metal', 'metal', 'metal', 'metal', 'metal',\n       'metal', 'metal', 'metal', 'metal', 'metal', 'metal', 'metal',\n       'metal', 'metal', 'metal', 'metal', 'metal', 'metal', 'metal',\n       'metal', 'metal', 'metal', 'metal', 'metal', 'metal', 'metal',\n       'metal', 'metal', 'metal', 'metal', 'metal', 'metal', 'metal',\n       'metal', 'metal', 'metal', 'metal', 'metal', 'metal', 'metal',\n       'metal', 'metal', 'metal', 'metal', 'metal', 'metal', 'metal',\n       'metal', 'metal', 'metal', 'metal', 'metal', 'pop', 'pop', 'pop',\n       'pop', 'pop', 'pop', 'pop', 'pop', 'pop', 'pop', 'pop', 'pop',\n       'pop', 'pop', 'pop', 'pop', 'pop', 'pop', 'pop', 'pop', 'pop',\n       'pop', 'pop', 'pop', 'pop', 'pop', 'pop', 'pop', 'pop', 'pop',\n       'pop', 'pop', 'pop', 'pop', 'pop', 'pop', 'pop', 'pop', 'pop',\n       'pop', 'pop', 'pop', 'pop', 'pop', 'pop', 'pop', 'pop', 'pop',\n       'pop', 'pop', 'pop', 'pop', 'pop', 'pop', 'pop', 'pop', 'pop',\n       'pop', 'pop', 'pop', 'pop', 'pop', 'pop', 'pop', 'pop', 'pop',\n       'pop', 'pop', 'pop', 'pop', 'pop', 'pop', 'pop', 'pop', 'pop',\n       'pop', 'pop', 'pop', 'pop', 'pop', 'pop', 'pop', 'pop', 'pop',\n       'pop', 'pop', 'pop', 'pop', 'pop', 'pop', 'pop', 'pop', 'pop',\n       'pop', 'pop', 'pop', 'pop', 'pop', 'pop', 'pop', 'reggae',\n       'reggae', 'reggae', 'reggae', 'reggae', 'reggae', 'reggae',\n       'reggae', 'reggae', 'reggae', 'reggae', 'reggae', 'reggae',\n       'reggae', 'reggae', 'reggae', 'reggae', 'reggae', 'reggae',\n       'reggae', 'reggae', 'reggae', 'reggae', 'reggae', 'reggae',\n       'reggae', 'reggae', 'reggae', 'reggae', 'reggae', 'reggae',\n       'reggae', 'reggae', 'reggae', 'reggae', 'reggae', 'reggae',\n       'reggae', 'reggae', 'reggae', 'reggae', 'reggae', 'reggae',\n       'reggae', 'reggae', 'reggae', 'reggae', 'reggae', 'reggae',\n       'reggae', 'reggae', 'reggae', 'reggae', 'reggae', 'reggae',\n       'reggae', 'reggae', 'reggae', 'reggae', 'reggae', 'reggae',\n       'reggae', 'reggae', 'reggae', 'reggae', 'reggae', 'reggae',\n       'reggae', 'reggae', 'reggae', 'reggae', 'reggae', 'reggae',\n       'reggae', 'reggae', 'reggae', 'reggae', 'reggae', 'reggae',\n       'reggae', 'reggae', 'reggae', 'reggae', 'reggae', 'reggae',\n       'reggae', 'reggae', 'reggae', 'reggae', 'reggae', 'reggae',\n       'reggae', 'reggae', 'reggae', 'reggae', 'reggae', 'reggae',\n       'reggae', 'reggae', 'reggae', 'rock', 'rock', 'rock', 'rock',\n       'rock', 'rock', 'rock', 'rock', 'rock', 'rock', 'rock', 'rock',\n       'rock', 'rock', 'rock', 'rock', 'rock', 'rock', 'rock', 'rock',\n       'rock', 'rock', 'rock', 'rock', 'rock', 'rock', 'rock', 'rock',\n       'rock', 'rock', 'rock', 'rock', 'rock', 'rock', 'rock', 'rock',\n       'rock', 'rock', 'rock', 'rock', 'rock', 'rock', 'rock', 'rock',\n       'rock', 'rock', 'rock', 'rock', 'rock', 'rock', 'rock', 'rock',\n       'rock', 'rock', 'rock', 'rock', 'rock', 'rock', 'rock', 'rock',\n       'rock', 'rock', 'rock', 'rock', 'rock', 'rock', 'rock', 'rock',\n       'rock', 'rock', 'rock', 'rock', 'rock', 'rock', 'rock', 'rock',\n       'rock', 'rock', 'rock', 'rock', 'rock', 'rock', 'rock', 'rock',\n       'rock', 'rock', 'rock', 'rock', 'rock', 'rock', 'rock', 'rock',\n       'rock', 'rock', 'rock', 'rock', 'rock', 'rock', 'rock', 'rock'],\n      dtype=object)"
     },
     "execution_count": 17,
     "metadata": {},
     "output_type": "execute_result"
    }
   ],
   "source": [
    "# this just contains the genre.\n",
    "# label_3sec\n",
    "# label_30sec"
   ],
   "metadata": {
    "collapsed": false,
    "pycharm": {
     "name": "#%%\n"
    }
   }
  },
  {
   "cell_type": "code",
   "execution_count": 15,
   "outputs": [],
   "source": [],
   "metadata": {
    "collapsed": false,
    "pycharm": {
     "name": "#%%\n"
    }
   }
  },
  {
   "cell_type": "markdown",
   "source": [
    "### Not working"
   ],
   "metadata": {
    "collapsed": false,
    "pycharm": {
     "name": "#%% md\n"
    }
   }
  },
  {
   "cell_type": "code",
   "execution_count": 16,
   "outputs": [
    {
     "ename": "NotADirectoryError",
     "evalue": "[WinError 267] The directory name is invalid: 'C:\\\\Users\\\\J\\\\Documents\\\\Classes\\\\Classes_Sp_2022\\\\Deep_Learning\\\\Final_project\\\\Music-Genre-Classification\\\\data\\\\features_30_sec.csv'",
     "output_type": "error",
     "traceback": [
      "\u001B[1;31m---------------------------------------------------------------------------\u001B[0m",
      "\u001B[1;31mNotADirectoryError\u001B[0m                        Traceback (most recent call last)",
      "Input \u001B[1;32mIn [16]\u001B[0m, in \u001B[0;36m<cell line: 5>\u001B[1;34m()\u001B[0m\n\u001B[0;32m      4\u001B[0m path \u001B[38;5;241m=\u001B[39m \u001B[38;5;124mr\u001B[39m\u001B[38;5;124m'\u001B[39m\u001B[38;5;124mC:\u001B[39m\u001B[38;5;124m\\\u001B[39m\u001B[38;5;124mUsers\u001B[39m\u001B[38;5;124m\\\u001B[39m\u001B[38;5;124mJ\u001B[39m\u001B[38;5;124m\\\u001B[39m\u001B[38;5;124mDocuments\u001B[39m\u001B[38;5;124m\\\u001B[39m\u001B[38;5;124mClasses\u001B[39m\u001B[38;5;124m\\\u001B[39m\u001B[38;5;124mClasses_Sp_2022\u001B[39m\u001B[38;5;124m\\\u001B[39m\u001B[38;5;124mDeep_Learning\u001B[39m\u001B[38;5;124m\\\u001B[39m\u001B[38;5;124mFinal_project\u001B[39m\u001B[38;5;124m\\\u001B[39m\u001B[38;5;124mMusic-Genre-Classification\u001B[39m\u001B[38;5;124m\\\u001B[39m\u001B[38;5;124mdata\u001B[39m\u001B[38;5;124m'\u001B[39m\n\u001B[0;32m      5\u001B[0m \u001B[38;5;28;01mfor\u001B[39;00m genre \u001B[38;5;129;01min\u001B[39;00m os\u001B[38;5;241m.\u001B[39mlistdir(path):\n\u001B[1;32m----> 6\u001B[0m     \u001B[38;5;28;01mfor\u001B[39;00m file \u001B[38;5;129;01min\u001B[39;00m \u001B[43mos\u001B[49m\u001B[38;5;241;43m.\u001B[39;49m\u001B[43mlistdir\u001B[49m\u001B[43m(\u001B[49m\u001B[38;5;124;43mf\u001B[39;49m\u001B[38;5;124;43m'\u001B[39;49m\u001B[38;5;132;43;01m{\u001B[39;49;00m\u001B[43mpath\u001B[49m\u001B[38;5;132;43;01m}\u001B[39;49;00m\u001B[38;5;132;43;01m{\u001B[39;49;00m\u001B[43mos\u001B[49m\u001B[38;5;241;43m.\u001B[39;49m\u001B[43msep\u001B[49m\u001B[38;5;132;43;01m}\u001B[39;49;00m\u001B[38;5;132;43;01m{\u001B[39;49;00m\u001B[43mgenre\u001B[49m\u001B[38;5;132;43;01m}\u001B[39;49;00m\u001B[38;5;124;43m'\u001B[39;49m\u001B[43m)\u001B[49m:\n\u001B[0;32m      7\u001B[0m         rate, data \u001B[38;5;241m=\u001B[39m wavfile\u001B[38;5;241m.\u001B[39mread(file)\n\u001B[0;32m      8\u001B[0m         clip \u001B[38;5;241m=\u001B[39m {\u001B[38;5;124m\"\u001B[39m\u001B[38;5;124msample_rate\u001B[39m\u001B[38;5;124m\"\u001B[39m: rate, \u001B[38;5;124m\"\u001B[39m\u001B[38;5;124mdata\u001B[39m\u001B[38;5;124m\"\u001B[39m: data, \u001B[38;5;124m\"\u001B[39m\u001B[38;5;124mgenre\u001B[39m\u001B[38;5;124m\"\u001B[39m: genre}\n",
      "\u001B[1;31mNotADirectoryError\u001B[0m: [WinError 267] The directory name is invalid: 'C:\\\\Users\\\\J\\\\Documents\\\\Classes\\\\Classes_Sp_2022\\\\Deep_Learning\\\\Final_project\\\\Music-Genre-Classification\\\\data\\\\features_30_sec.csv'"
     ]
    }
   ],
   "source": [
    "from scipy.io import wavfile\n",
    "\n",
    "samples = []\n",
    "path = r'C:\\Users\\J\\Documents\\Classes\\Classes_Sp_2022\\Deep_Learning\\Final_project\\Music-Genre-Classification\\data'\n",
    "for genre in os.listdir(path):\n",
    "    for file in os.listdir(f'{path}{os.sep}{genre}'):\n",
    "        rate, data = wavfile.read(file)\n",
    "        clip = {\"sample_rate\": rate, \"data\": data, \"genre\": genre}\n",
    "        samples.append(clip)"
   ],
   "metadata": {
    "collapsed": false,
    "pycharm": {
     "name": "#%%\n"
    }
   }
  }
 ],
 "metadata": {
  "kernelspec": {
   "display_name": "Python 3",
   "language": "python",
   "name": "python3"
  },
  "language_info": {
   "codemirror_mode": {
    "name": "ipython",
    "version": 2
   },
   "file_extension": ".py",
   "mimetype": "text/x-python",
   "name": "python",
   "nbconvert_exporter": "python",
   "pygments_lexer": "ipython2",
   "version": "2.7.6"
  }
 },
 "nbformat": 4,
 "nbformat_minor": 0
}